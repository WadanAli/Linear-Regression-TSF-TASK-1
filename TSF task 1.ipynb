{
 "cells": [
  {
   "cell_type": "markdown",
   "id": "ffd1b9af",
   "metadata": {},
   "source": [
    "# GRIP July 2022 - Data Science and Business Analytics Internship\n"
   ]
  },
  {
   "cell_type": "markdown",
   "id": "54964d14",
   "metadata": {},
   "source": [
    "\n",
    "##    Name: Wadan Ali"
   ]
  },
  {
   "cell_type": "markdown",
   "id": "39ed74cf",
   "metadata": {},
   "source": [
    "## Linear Regression Task with Python using Scikit-learn\n",
    "\n",
    "## Task 1: \n",
    "\n",
    "### Predicting Percentage of a student based on the numbers of study hours"
   ]
  },
  {
   "cell_type": "markdown",
   "id": "3be814ee",
   "metadata": {},
   "source": [
    "### Importing all Libraries"
   ]
  },
  {
   "cell_type": "code",
   "execution_count": 45,
   "id": "33b64694",
   "metadata": {},
   "outputs": [],
   "source": [
    "import pandas as pd\n",
    "import numpy as np\n",
    "import matplotlib.pyplot as plt\n",
    "from sklearn.model_selection import train_test_split\n",
    "from sklearn.linear_model import LinearRegression\n",
    "import seaborn as sns"
   ]
  },
  {
   "cell_type": "markdown",
   "id": "bf866420",
   "metadata": {},
   "source": [
    "### Removing Warnings"
   ]
  },
  {
   "cell_type": "code",
   "execution_count": 23,
   "id": "9f9c1dd4",
   "metadata": {},
   "outputs": [],
   "source": [
    "#Ignore warnings\n",
    "def warn(*args, **kwargs):\n",
    "    pass\n",
    "import warnings\n",
    "warnings.warn = warn"
   ]
  },
  {
   "cell_type": "markdown",
   "id": "ddfbc37f",
   "metadata": {},
   "source": [
    "### Importing and Reading Dataset"
   ]
  },
  {
   "cell_type": "code",
   "execution_count": 3,
   "id": "35334748",
   "metadata": {},
   "outputs": [
    {
     "data": {
      "text/html": [
       "<div>\n",
       "<style scoped>\n",
       "    .dataframe tbody tr th:only-of-type {\n",
       "        vertical-align: middle;\n",
       "    }\n",
       "\n",
       "    .dataframe tbody tr th {\n",
       "        vertical-align: top;\n",
       "    }\n",
       "\n",
       "    .dataframe thead th {\n",
       "        text-align: right;\n",
       "    }\n",
       "</style>\n",
       "<table border=\"1\" class=\"dataframe\">\n",
       "  <thead>\n",
       "    <tr style=\"text-align: right;\">\n",
       "      <th></th>\n",
       "      <th>Hours</th>\n",
       "      <th>Scores</th>\n",
       "    </tr>\n",
       "  </thead>\n",
       "  <tbody>\n",
       "    <tr>\n",
       "      <th>0</th>\n",
       "      <td>2.5</td>\n",
       "      <td>21</td>\n",
       "    </tr>\n",
       "    <tr>\n",
       "      <th>1</th>\n",
       "      <td>5.1</td>\n",
       "      <td>47</td>\n",
       "    </tr>\n",
       "    <tr>\n",
       "      <th>2</th>\n",
       "      <td>3.2</td>\n",
       "      <td>27</td>\n",
       "    </tr>\n",
       "    <tr>\n",
       "      <th>3</th>\n",
       "      <td>8.5</td>\n",
       "      <td>75</td>\n",
       "    </tr>\n",
       "    <tr>\n",
       "      <th>4</th>\n",
       "      <td>3.5</td>\n",
       "      <td>30</td>\n",
       "    </tr>\n",
       "  </tbody>\n",
       "</table>\n",
       "</div>"
      ],
      "text/plain": [
       "   Hours  Scores\n",
       "0    2.5      21\n",
       "1    5.1      47\n",
       "2    3.2      27\n",
       "3    8.5      75\n",
       "4    3.5      30"
      ]
     },
     "execution_count": 3,
     "metadata": {},
     "output_type": "execute_result"
    }
   ],
   "source": [
    "link = 'http://bit.ly/w-data'\n",
    "df = pd.read_csv(link)\n",
    "df.head()"
   ]
  },
  {
   "cell_type": "markdown",
   "id": "fa7a9dba",
   "metadata": {},
   "source": [
    "### Checking Shape"
   ]
  },
  {
   "cell_type": "code",
   "execution_count": 7,
   "id": "779f092f",
   "metadata": {},
   "outputs": [
    {
     "name": "stdout",
     "output_type": "stream",
     "text": [
      "(25, 2)\n",
      "this dataframe has  25 rows and  2  columns\n"
     ]
    }
   ],
   "source": [
    "print(df.shape)\n",
    "print('this dataframe has ', df.shape[0], 'rows and ', df.shape[1], ' columns')"
   ]
  },
  {
   "cell_type": "markdown",
   "id": "d4b265b5",
   "metadata": {},
   "source": [
    "### Checking Null Values"
   ]
  },
  {
   "cell_type": "code",
   "execution_count": 36,
   "id": "68e86e9a",
   "metadata": {},
   "outputs": [
    {
     "data": {
      "text/plain": [
       "Hours     0\n",
       "Scores    0\n",
       "dtype: int64"
      ]
     },
     "execution_count": 36,
     "metadata": {},
     "output_type": "execute_result"
    }
   ],
   "source": [
    "df.isnull().sum()"
   ]
  },
  {
   "cell_type": "markdown",
   "id": "d70c2665",
   "metadata": {},
   "source": [
    "### Analyzying its Statistics"
   ]
  },
  {
   "cell_type": "code",
   "execution_count": 14,
   "id": "a3190a14",
   "metadata": {
    "scrolled": true
   },
   "outputs": [
    {
     "name": "stdout",
     "output_type": "stream",
     "text": [
      "<class 'pandas.core.frame.DataFrame'>\n",
      "RangeIndex: 25 entries, 0 to 24\n",
      "Data columns (total 2 columns):\n",
      " #   Column  Non-Null Count  Dtype  \n",
      "---  ------  --------------  -----  \n",
      " 0   Hours   25 non-null     float64\n",
      " 1   Scores  25 non-null     int64  \n",
      "dtypes: float64(1), int64(1)\n",
      "memory usage: 528.0 bytes\n"
     ]
    }
   ],
   "source": [
    "df.info()"
   ]
  },
  {
   "cell_type": "code",
   "execution_count": 15,
   "id": "65a4d70b",
   "metadata": {},
   "outputs": [
    {
     "data": {
      "text/html": [
       "<div>\n",
       "<style scoped>\n",
       "    .dataframe tbody tr th:only-of-type {\n",
       "        vertical-align: middle;\n",
       "    }\n",
       "\n",
       "    .dataframe tbody tr th {\n",
       "        vertical-align: top;\n",
       "    }\n",
       "\n",
       "    .dataframe thead th {\n",
       "        text-align: right;\n",
       "    }\n",
       "</style>\n",
       "<table border=\"1\" class=\"dataframe\">\n",
       "  <thead>\n",
       "    <tr style=\"text-align: right;\">\n",
       "      <th></th>\n",
       "      <th>Hours</th>\n",
       "      <th>Scores</th>\n",
       "    </tr>\n",
       "  </thead>\n",
       "  <tbody>\n",
       "    <tr>\n",
       "      <th>count</th>\n",
       "      <td>25.000000</td>\n",
       "      <td>25.000000</td>\n",
       "    </tr>\n",
       "    <tr>\n",
       "      <th>mean</th>\n",
       "      <td>5.012000</td>\n",
       "      <td>51.480000</td>\n",
       "    </tr>\n",
       "    <tr>\n",
       "      <th>std</th>\n",
       "      <td>2.525094</td>\n",
       "      <td>25.286887</td>\n",
       "    </tr>\n",
       "    <tr>\n",
       "      <th>min</th>\n",
       "      <td>1.100000</td>\n",
       "      <td>17.000000</td>\n",
       "    </tr>\n",
       "    <tr>\n",
       "      <th>25%</th>\n",
       "      <td>2.700000</td>\n",
       "      <td>30.000000</td>\n",
       "    </tr>\n",
       "    <tr>\n",
       "      <th>50%</th>\n",
       "      <td>4.800000</td>\n",
       "      <td>47.000000</td>\n",
       "    </tr>\n",
       "    <tr>\n",
       "      <th>75%</th>\n",
       "      <td>7.400000</td>\n",
       "      <td>75.000000</td>\n",
       "    </tr>\n",
       "    <tr>\n",
       "      <th>max</th>\n",
       "      <td>9.200000</td>\n",
       "      <td>95.000000</td>\n",
       "    </tr>\n",
       "  </tbody>\n",
       "</table>\n",
       "</div>"
      ],
      "text/plain": [
       "           Hours     Scores\n",
       "count  25.000000  25.000000\n",
       "mean    5.012000  51.480000\n",
       "std     2.525094  25.286887\n",
       "min     1.100000  17.000000\n",
       "25%     2.700000  30.000000\n",
       "50%     4.800000  47.000000\n",
       "75%     7.400000  75.000000\n",
       "max     9.200000  95.000000"
      ]
     },
     "execution_count": 15,
     "metadata": {},
     "output_type": "execute_result"
    }
   ],
   "source": [
    "df.describe()"
   ]
  },
  {
   "cell_type": "code",
   "execution_count": 24,
   "id": "7c6cbb95",
   "metadata": {},
   "outputs": [
    {
     "data": {
      "text/plain": [
       "Index(['Hours', 'Scores'], dtype='object')"
      ]
     },
     "execution_count": 24,
     "metadata": {},
     "output_type": "execute_result"
    }
   ],
   "source": [
    "df.columns"
   ]
  },
  {
   "cell_type": "code",
   "execution_count": 40,
   "id": "815bcbfe",
   "metadata": {},
   "outputs": [
    {
     "data": {
      "text/plain": [
       "<AxesSubplot:title={'center':'Comparision between numbers of Hours Study and Percentage'}, xlabel='Hours', ylabel='Scores'>"
      ]
     },
     "execution_count": 40,
     "metadata": {},
     "output_type": "execute_result"
    },
    {
     "data": {
      "image/png": "[encoded data removed]",
      "text/plain": [
       "<Figure size 864x576 with 1 Axes>"
      ]
     },
     "metadata": {
      "needs_background": "light"
     },
     "output_type": "display_data"
    }
   ],
   "source": [
    "plt.xlabel('No of Hours', fontsize= 15)\n",
    "plt.ylabel('Score', fontsize= 15)\n",
    "plt.title('Comparision between numbers of Hours Study and Percentage',  fontsize= 15)\n",
    "plt.rcParams[\"figure.figsize\"]=(10,7)\n",
    "sns.barplot(df['Hours'],df['Scores'])"
   ]
  },
  {
   "cell_type": "code",
   "execution_count": 41,
   "id": "1f566b85",
   "metadata": {},
   "outputs": [
    {
     "data": {
      "text/plain": [
       "<AxesSubplot:title={'center':'Comparision between numbers of Hours Study and Percentage'}, xlabel='No of Hours', ylabel='Score'>"
      ]
     },
     "execution_count": 41,
     "metadata": {},
     "output_type": "execute_result"
    },
    {
     "data": {
      "image/png": "[encoded data removed]",
      "text/plain": [
       "<Figure size 720x504 with 1 Axes>"
      ]
     },
     "metadata": {
      "needs_background": "light"
     },
     "output_type": "display_data"
    }
   ],
   "source": [
    "plt.xlabel('No of Hours', fontsize= 15)\n",
    "plt.ylabel('Score', fontsize= 15)\n",
    "plt.title('Comparision between numbers of Hours Study and Percentage',  fontsize= 15)\n",
    "plt.rcParams[\"figure.figsize\"]=(10,7)\n",
    "sns.lineplot(df['Hours'],df['Scores'])"
   ]
  },
  {
   "cell_type": "code",
   "execution_count": null,
   "id": "1a1a8ce5",
   "metadata": {},
   "outputs": [],
   "source": []
  },
  {
   "cell_type": "markdown",
   "id": "e9f74cbf",
   "metadata": {},
   "source": [
    "### Separating input and output Variables"
   ]
  },
  {
   "cell_type": "code",
   "execution_count": 44,
   "id": "36a7f4e6",
   "metadata": {},
   "outputs": [],
   "source": [
    "# Spliting into dependent and independent\n",
    "X = df.drop(\"Scores\", axis=1)\n",
    "y = df.Scores"
   ]
  },
  {
   "cell_type": "code",
   "execution_count": 46,
   "id": "b601aede",
   "metadata": {},
   "outputs": [],
   "source": [
    "x_train, x_test, y_train, y_test = train_test_split(X, y, test_size=0.2, random_state=2)"
   ]
  },
  {
   "cell_type": "code",
   "execution_count": 47,
   "id": "11c25d43",
   "metadata": {},
   "outputs": [
    {
     "name": "stdout",
     "output_type": "stream",
     "text": [
      "Shape of X_train:  (20, 1)\n",
      "Shape of Y_train:  (20,)\n",
      "Shape of X_test :  (5, 1)\n",
      "Shape of y_test :  (5,)\n"
     ]
    }
   ],
   "source": [
    "print(\"Shape of X_train: \", x_train.shape)\n",
    "print(\"Shape of Y_train: \", y_train.shape)\n",
    "print(\"Shape of X_test : \", x_test.shape)\n",
    "print(\"Shape of y_test : \", y_test.shape)"
   ]
  },
  {
   "cell_type": "markdown",
   "id": "36acfb66",
   "metadata": {},
   "source": [
    "### Applying Linear Regression Model"
   ]
  },
  {
   "cell_type": "code",
   "execution_count": 48,
   "id": "d467a43e",
   "metadata": {},
   "outputs": [
    {
     "data": {
      "text/plain": [
       "LinearRegression()"
      ]
     },
     "execution_count": 48,
     "metadata": {},
     "output_type": "execute_result"
    }
   ],
   "source": [
    "model = LinearRegression()\n",
    "model.fit(X,y)"
   ]
  },
  {
   "cell_type": "code",
   "execution_count": 53,
   "id": "fbe328b5",
   "metadata": {},
   "outputs": [
    {
     "data": {
      "text/plain": [
       "0.9420477650683029"
      ]
     },
     "execution_count": 53,
     "metadata": {},
     "output_type": "execute_result"
    }
   ],
   "source": [
    "# Checking Model Accuracy on Training Data\n",
    "model.score(x_train,y_train)"
   ]
  },
  {
   "cell_type": "code",
   "execution_count": 54,
   "id": "143743d4",
   "metadata": {},
   "outputs": [
    {
     "data": {
      "text/plain": [
       "0.9752298585615701"
      ]
     },
     "execution_count": 54,
     "metadata": {},
     "output_type": "execute_result"
    }
   ],
   "source": [
    "# Checking Model Accuracy on Testing Data\n",
    "model.score(x_test,y_test)"
   ]
  },
  {
   "cell_type": "markdown",
   "id": "d7c825a5",
   "metadata": {},
   "source": [
    "## Prediction of New Data"
   ]
  },
  {
   "cell_type": "code",
   "execution_count": 56,
   "id": "abc91309",
   "metadata": {},
   "outputs": [
    {
     "data": {
      "text/plain": [
       "array([92.90985477])"
      ]
     },
     "execution_count": 56,
     "metadata": {},
     "output_type": "execute_result"
    }
   ],
   "source": [
    "# Predicted Score when No of Hours = 9.25\n",
    "new_test = np.array(9.25).reshape((-1,1))\n",
    "model.predict(new_test)"
   ]
  },
  {
   "cell_type": "markdown",
   "id": "4a986dde",
   "metadata": {},
   "source": [
    "#### Which shows that if a person study for 9.25 hours, he/she must get 92.90 percent score in his/her result according to the given data and trained model"
   ]
  },
  {
   "cell_type": "markdown",
   "id": "283afac6",
   "metadata": {},
   "source": [
    "# Thank You"
   ]
  },
  {
   "cell_type": "code",
   "execution_count": null,
   "id": "466207d5",
   "metadata": {},
   "outputs": [],
   "source": []
  }
 ],
 "metadata": {
  "kernelspec": {
   "display_name": "Python 3 (ipykernel)",
   "language": "python",
   "name": "python3"
  },
  "language_info": {
   "codemirror_mode": {
    "name": "ipython",
    "version": 3
   },
   "file_extension": ".py",
   "mimetype": "text/x-python",
   "name": "python",
   "nbconvert_exporter": "python",
   "pygments_lexer": "ipython3",
   "version": "3.9.7"
  }
 },
 "nbformat": 4,
 "nbformat_minor": 5
}
